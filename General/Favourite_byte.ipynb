{
 "cells": [
  {
   "cell_type": "code",
   "execution_count": null,
   "metadata": {},
   "outputs": [],
   "source": [
    "secret = '73626960647f6b206821204f21254f7d694f7624662065622127234f726927756d'\n",
    "secret_bytes = bytes.fromhex(secret)\n",
    "secret_bytes"
   ]
  },
  {
   "cell_type": "markdown",
   "metadata": {},
   "source": [
    "As we do not now with with byte the secret was xored we can just try all possible bytes and see if the result is a valid flag."
   ]
  },
  {
   "cell_type": "code",
   "execution_count": null,
   "metadata": {},
   "outputs": [],
   "source": [
    "for try_byte in range(256): # Brute force on all possible bytes\n",
    "    xored_bytes = bytes([x ^ try_byte for x in secret_bytes])\n",
    "    if b'crypto' in xored_bytes:\n",
    "        print(xored_bytes)"
   ]
  }
 ],
 "metadata": {
  "kernelspec": {
   "display_name": "Python 3",
   "language": "python",
   "name": "python3"
  },
  "language_info": {
   "codemirror_mode": {
    "name": "ipython",
    "version": 3
   },
   "file_extension": ".py",
   "mimetype": "text/x-python",
   "name": "python",
   "nbconvert_exporter": "python",
   "pygments_lexer": "ipython3",
   "version": "3.10.11"
  }
 },
 "nbformat": 4,
 "nbformat_minor": 2
}
