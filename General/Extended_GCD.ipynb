{
 "cells": [
  {
   "cell_type": "code",
   "execution_count": null,
   "metadata": {},
   "outputs": [],
   "source": [
    "p = 26513\n",
    "q = 32321\n",
    "\n",
    "#see https://cp-algorithms.com/algebra/extended-euclid-algorithm.html\n",
    "def extended_gcd(a, b):\n",
    "    if b == 0: return 1, 0, a\n",
    "    x, y, gcd = extended_gcd(b, a % b)\n",
    "    return y, x - y * (a // b), gcd\n",
    "extended_gcd(26513, 32321)"
   ]
  }
 ],
 "metadata": {
  "kernelspec": {
   "display_name": "Python 3",
   "language": "python",
   "name": "python3"
  },
  "language_info": {
   "codemirror_mode": {
    "name": "ipython",
    "version": 3
   },
   "file_extension": ".py",
   "mimetype": "text/x-python",
   "name": "python",
   "nbconvert_exporter": "python",
   "pygments_lexer": "ipython3",
   "version": "3.10.11"
  }
 },
 "nbformat": 4,
 "nbformat_minor": 2
}
