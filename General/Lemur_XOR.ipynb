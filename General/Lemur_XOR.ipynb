{
 "cells": [
  {
   "cell_type": "code",
   "execution_count": null,
   "metadata": {},
   "outputs": [],
   "source": [
    "%pip install Pillow\n",
    "%pip install pwntools"
   ]
  },
  {
   "cell_type": "code",
   "execution_count": null,
   "metadata": {},
   "outputs": [],
   "source": [
    "from PIL import Image\n",
    "from pwn import xor"
   ]
  },
  {
   "cell_type": "code",
   "execution_count": null,
   "metadata": {},
   "outputs": [],
   "source": [
    "with Image.open(\"challenge_files/flag.png\") as img:\n",
    "    size = img.size # Get the size of the image for later visualization\n",
    "    flag = img.tobytes()\n",
    "with Image.open(\"challenge_files/lemur.png\") as img:\n",
    "    lemur = img.tobytes()\n",
    "\n",
    "lemur_xor_flag = xor(flag, lemur) # XOR the two images together\n",
    "\n",
    "Image.frombytes('RGB', data=lemur_xor_flag, size=size)]"
   ]
  }
 ],
 "metadata": {
  "kernelspec": {
   "display_name": "Python 3",
   "language": "python",
   "name": "python3"
  },
  "language_info": {
   "codemirror_mode": {
    "name": "ipython",
    "version": 3
   },
   "file_extension": ".py",
   "mimetype": "text/x-python",
   "name": "python",
   "nbconvert_exporter": "python",
   "pygments_lexer": "ipython3",
   "version": "3.10.11"
  }
 },
 "nbformat": 4,
 "nbformat_minor": 2
}
