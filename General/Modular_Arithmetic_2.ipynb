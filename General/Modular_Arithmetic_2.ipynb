{
 "cells": [
  {
   "cell_type": "markdown",
   "metadata": {},
   "source": [
    "By Fermat's little theorem:\n",
    "$$ a^{p-1} \\equiv 1 \\pmod{p} $$\n",
    "and so for a = 27324678765465536 and p = 65537:\n",
    "$$ 27324678765465536^{65536} \\equiv 1 \\pmod{65537} $$"
   ]
  }
 ],
 "metadata": {
  "kernelspec": {
   "display_name": "Python 3",
   "language": "python",
   "name": "python3"
  },
  "language_info": {
   "codemirror_mode": {
    "name": "ipython",
    "version": 3
   },
   "file_extension": ".py",
   "mimetype": "text/x-python",
   "name": "python",
   "nbconvert_exporter": "python",
   "pygments_lexer": "ipython3",
   "version": "3.10.11"
  }
 },
 "nbformat": 4,
 "nbformat_minor": 2
}
