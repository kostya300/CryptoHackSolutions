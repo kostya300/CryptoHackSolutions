{
 "cells": [
  {
   "cell_type": "markdown",
   "metadata": {},
   "source": [
    "By Fermat's little theorem:\n",
    "$$ a^{p-1} \\equiv 1 \\pmod{p} $$\n",
    "and so we have:\n",
    "$$ a^{p-2} * a = 1 \\pmod{p} $$\n",
    "so $a^{p-2} \\pmod{p}$ is the modular inverse of $a$."
   ]
  },
  {
   "cell_type": "code",
   "execution_count": null,
   "metadata": {},
   "outputs": [],
   "source": [
    "a = 3\n",
    "p = 13\n",
    "a**(p-2) % p"
   ]
  }
 ],
 "metadata": {
  "kernelspec": {
   "display_name": "Python 3",
   "language": "python",
   "name": "python3"
  },
  "language_info": {
   "codemirror_mode": {
    "name": "ipython",
    "version": 3
   },
   "file_extension": ".py",
   "mimetype": "text/x-python",
   "name": "python",
   "nbconvert_exporter": "python",
   "pygments_lexer": "ipython3",
   "version": "3.10.11"
  }
 },
 "nbformat": 4,
 "nbformat_minor": 2
}
