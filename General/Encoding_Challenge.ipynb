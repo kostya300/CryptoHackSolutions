{
 "cells": [
  {
   "cell_type": "code",
   "execution_count": null,
   "metadata": {},
   "outputs": [],
   "source": [
    "%pip install pwntools"
   ]
  },
  {
   "cell_type": "code",
   "execution_count": null,
   "metadata": {},
   "outputs": [],
   "source": [
    "import base64\n",
    "import codecs\n",
    "from Crypto.Util.number import long_to_bytes\n",
    "\n",
    "from challenge_files import pwntools_example"
   ]
  },
  {
   "cell_type": "code",
   "execution_count": null,
   "metadata": {},
   "outputs": [],
   "source": [
    "result = pwntools_example.json_recv()\n",
    "result"
   ]
  },
  {
   "cell_type": "markdown",
   "metadata": {},
   "source": [
    "We can see that the returned message has two parts:\n",
    "- The first part is called \"type\" and it reprensents the encoding type used to encode the message. (see variable ENCODINGS at challenge_files/13377.py).\n",
    "- The second part is called \"encoded\" and it is the encoded message.\n",
    "\n",
    "All we need to do is to reverse the encoding and to retuen the decoded message. We can see at challenge_files/13377.py line 53 that when we will do this decoding successfully enough times, the server will return the flag."
   ]
  },
  {
   "cell_type": "code",
   "execution_count": null,
   "metadata": {},
   "outputs": [],
   "source": [
    "while 'flag' not in result:\n",
    "    match result['type']:\n",
    "        case 'base64':\n",
    "            decoded = base64.b64decode(result['encoded']).decode() # base64.b64decode() converts base64 string to bytes\n",
    "        case 'hex':\n",
    "            decoded = bytes.fromhex(result['encoded']).decode() # bytes.fromhex() converts hex string to bytes\n",
    "        case 'rot13':\n",
    "            decoded = codecs.decode(result['encoded'], 'rot_13') # rot13 is a Caesar cipher with a shift of 13\n",
    "        case 'bigint':\n",
    "            decoded = long_to_bytes(int(result[\"encoded\"], 16)).decode() # int(x, 16) converts hex string to 10-base int\n",
    "        case 'utf-8':\n",
    "            decoded = ''.join(map(chr, result['encoded'])) # map(chr, x) converts list of ints to string\n",
    "    \n",
    "    pwntools_example.json_send({\"decoded\": decoded}) #taken from pwntools_example.py\n",
    "    result = pwntools_example.json_recv()"
   ]
  },
  {
   "cell_type": "code",
   "execution_count": null,
   "metadata": {},
   "outputs": [],
   "source": [
    "result['flag']"
   ]
  }
 ],
 "metadata": {
  "kernelspec": {
   "display_name": "Python 3",
   "language": "python",
   "name": "python3"
  },
  "language_info": {
   "codemirror_mode": {
    "name": "ipython",
    "version": 3
   },
   "file_extension": ".py",
   "mimetype": "text/x-python",
   "name": "python",
   "nbconvert_exporter": "python",
   "pygments_lexer": "ipython3",
   "version": "3.10.11"
  }
 },
 "nbformat": 4,
 "nbformat_minor": 2
}
