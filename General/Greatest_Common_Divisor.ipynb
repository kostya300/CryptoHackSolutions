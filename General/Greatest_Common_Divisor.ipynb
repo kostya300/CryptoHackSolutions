{
 "cells": [
  {
   "cell_type": "code",
   "execution_count": null,
   "metadata": {},
   "outputs": [],
   "source": [
    "# see https://en.wikipedia.org/wiki/Euclidean_algorithm\n",
    "def gcd(a, b):\n",
    "    while b != 0:\n",
    "        t = b\n",
    "        b = a % b\n",
    "        a = t\n",
    "    return a\n",
    "gcd(66528, 52920)"
   ]
  }
 ],
 "metadata": {
  "kernelspec": {
   "display_name": "Python 3",
   "language": "python",
   "name": "python3"
  },
  "language_info": {
   "codemirror_mode": {
    "name": "ipython",
    "version": 3
   },
   "file_extension": ".py",
   "mimetype": "text/x-python",
   "name": "python",
   "nbconvert_exporter": "python",
   "pygments_lexer": "ipython3",
   "version": "3.10.11"
  }
 },
 "nbformat": 4,
 "nbformat_minor": 2
}
