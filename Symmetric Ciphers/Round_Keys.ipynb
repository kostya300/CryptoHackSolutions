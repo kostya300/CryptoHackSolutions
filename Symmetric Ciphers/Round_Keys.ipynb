{
 "cells": [
  {
   "cell_type": "code",
   "execution_count": null,
   "metadata": {},
   "outputs": [],
   "source": [
    "state = [\n",
    "    [206, 243, 61, 34],\n",
    "    [171, 11, 93, 31],\n",
    "    [16, 200, 91, 108],\n",
    "    [150, 3, 194, 51],\n",
    "]\n",
    "\n",
    "round_key = [\n",
    "    [173, 129, 68, 82],\n",
    "    [223, 100, 38, 109],\n",
    "    [32, 189, 53, 8],\n",
    "    [253, 48, 187, 78],\n",
    "]"
   ]
  },
  {
   "cell_type": "code",
   "execution_count": null,
   "metadata": {},
   "outputs": [],
   "source": [
    "def matrix2bytes(matrix):\n",
    "    return [x for l in matrix for x in l]"
   ]
  },
  {
   "cell_type": "code",
   "execution_count": null,
   "metadata": {},
   "outputs": [],
   "source": [
    "def add_round_key(s, k):\n",
    "    return [[x^y for x, y in zip(l1, l2)] for l1, l2 in zip(s, k)]"
   ]
  },
  {
   "cell_type": "code",
   "execution_count": null,
   "metadata": {},
   "outputs": [],
   "source": [
    "bytes(matrix2bytes(add_round_key(state, round_key)))"
   ]
  }
 ],
 "metadata": {
  "kernelspec": {
   "display_name": "Python 3",
   "language": "python",
   "name": "python3"
  },
  "language_info": {
   "codemirror_mode": {
    "name": "ipython",
    "version": 3
   },
   "file_extension": ".py",
   "mimetype": "text/x-python",
   "name": "python",
   "nbconvert_exporter": "python",
   "pygments_lexer": "ipython3",
   "version": "3.10.11"
  }
 },
 "nbformat": 4,
 "nbformat_minor": 2
}
