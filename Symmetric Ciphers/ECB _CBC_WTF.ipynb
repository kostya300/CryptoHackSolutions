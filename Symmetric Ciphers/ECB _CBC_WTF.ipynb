{
 "cells": [
  {
   "cell_type": "code",
   "execution_count": null,
   "metadata": {},
   "outputs": [],
   "source": [
    "%pip install pwntools"
   ]
  },
  {
   "cell_type": "code",
   "execution_count": null,
   "metadata": {},
   "outputs": [],
   "source": [
    "import requests\n",
    "from pwn import xor"
   ]
  },
  {
   "cell_type": "code",
   "execution_count": null,
   "metadata": {},
   "outputs": [],
   "source": [
    "def seperate2blocks(data, block_size):\n",
    "    return [data[i:i+block_size] for i in range(0, len(data), block_size)]"
   ]
  },
  {
   "cell_type": "code",
   "execution_count": null,
   "metadata": {},
   "outputs": [],
   "source": [
    "#get the ciphertext and \"plaintext\" through the requests library\n",
    "chipertext = requests.get('https://aes.cryptohack.org/ecbcbcwtf/encrypt_flag/').json()['ciphertext']\n",
    "pseudoplaintext = requests.get(f'https://aes.cryptohack.org/ecbcbcwtf/decrypt/{chipertext}').json()['plaintext']\n",
    "chipertext, pseudoplaintext = bytes.fromhex(chipertext), bytes.fromhex(pseudoplaintext)"
   ]
  },
  {
   "cell_type": "markdown",
   "metadata": {},
   "source": [
    "If we'll denote the ecryption function as $f$, we can write ECB as:\n",
    "$$C_i = f(P_i)$$\n",
    "where $C_i$ is the $i$-th block of ciphertext and $P_i$ is the $i$-th block of plaintext.\n",
    "For CBC, we have:\n",
    "$$C_i = f(P_i \\oplus C_{i-1})$$\n",
    "where $C_0$ is the initialization vector (IV).\n",
    "\n",
    "As the cipher we get from the websites was encrypted by CBC mode, the information we have is:\n",
    "$$ \\text{pseudoplaintext}_i = P_i \\oplus C_{i-1} $$\n",
    "and so:\n",
    "$$ P_i = C_{i-1} \\oplus \\text{pseudoplaintext}_i $$"
   ]
  },
  {
   "cell_type": "code",
   "execution_count": null,
   "metadata": {},
   "outputs": [],
   "source": [
    "c_blocks = seperate2blocks(chipertext, 16)\n",
    "p_blocks = seperate2blocks(pseudoplaintext, 16)\n",
    "\n",
    "plaintext_blocks = [xor(c_blocks[i], p_blocks[i+1]) for i in range(len(c_blocks)-1)]\n",
    "b\"\".join(plaintext_blocks)"
   ]
  }
 ],
 "metadata": {
  "kernelspec": {
   "display_name": "Python 3",
   "language": "python",
   "name": "python3"
  },
  "language_info": {
   "codemirror_mode": {
    "name": "ipython",
    "version": 3
   },
   "file_extension": ".py",
   "mimetype": "text/x-python",
   "name": "python",
   "nbconvert_exporter": "python",
   "pygments_lexer": "ipython3",
   "version": "3.10.11"
  }
 },
 "nbformat": 4,
 "nbformat_minor": 2
}
