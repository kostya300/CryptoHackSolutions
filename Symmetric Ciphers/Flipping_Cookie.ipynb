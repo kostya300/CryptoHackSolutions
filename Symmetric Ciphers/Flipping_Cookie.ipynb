{
 "cells": [
  {
   "cell_type": "code",
   "execution_count": null,
   "metadata": {},
   "outputs": [],
   "source": [
    "%pip install PyCryptodome\n",
    "%pip install pwntools"
   ]
  },
  {
   "cell_type": "code",
   "execution_count": null,
   "metadata": {},
   "outputs": [],
   "source": [
    "from datetime import datetime, timedelta\n",
    "import requests\n",
    "from pwn import xor\n",
    "from Crypto.Util.Padding import pad, unpad"
   ]
  },
  {
   "cell_type": "code",
   "execution_count": null,
   "metadata": {},
   "outputs": [],
   "source": [
    "def seperate2blocks(data, block_size):\n",
    "    return [data[i:i+block_size] for i in range(0, len(data), block_size)]\n",
    "\n",
    "def check_admin(cookie, iv):\n",
    "    return requests.get(f'https://aes.cryptohack.org/flipping_cookie/check_admin/{cookie}/{iv}/').json()['flag']"
   ]
  },
  {
   "cell_type": "markdown",
   "metadata": {},
   "source": [
    "The cipher looks like:\n",
    "$$C = [E(IV \\oplus P_1), E(C_1 \\oplus P_2), E(C_2 \\oplus P_3), \\dots, E(C_{n-1} \\oplus P_n)] $$\n",
    "where $C_i$ is the $i$-th block of the ciphertext, $P_i$ is the $i$-th block of the plaintext, and $E$ is the block cipher encryption function.\n",
    "By looking at the code we know that:\n",
    "$$P_1 = \"\\text{admin=False;expi}\"$$\n",
    "We want that the decrypted text will have \"admin=True\" in it. The decrypted first block is:\n",
    "$$D_1 = D(\\tilde{C_1}) \\oplus \\tilde{IV}$$\n",
    "where we can choose both $\\tilde{C_1}$ and $\\tilde{IV}$. Now, let's choose $\\tilde{C_1}=C_1$ amd $\\tilde{IV}$ as:\n",
    "$$\\tilde{IV} = P_1 \\oplus IV \\oplus \"\\text{admin=True;}\"$$ \n",
    "and we will get:\n",
    "$$D_1 = D(C_1) \\oplus P_1 \\oplus IV \\oplus \"\\text{admin=True;}\" = \"\\text{admin=True;}\"$$"
   ]
  },
  {
   "cell_type": "code",
   "execution_count": null,
   "metadata": {},
   "outputs": [],
   "source": [
    "iv_and_cookie = bytes.fromhex(requests.get(f'https://aes.cryptohack.org/flipping_cookie/get_cookie/').json()['cookie'])\n",
    "iv = iv_and_cookie[:16]\n",
    "cookie = iv_and_cookie[16:]"
   ]
  },
  {
   "cell_type": "code",
   "execution_count": null,
   "metadata": {},
   "outputs": [],
   "source": [
    "c1 = seperate2blocks(cookie, 16)[0]\n",
    "new_iv = xor(iv, b\"admin=False;expi\", pad(b\"admin=True;ex\",16))\n",
    "check_admin(c1.hex(), new_iv.hex())"
   ]
  }
 ],
 "metadata": {
  "kernelspec": {
   "display_name": "Python 3",
   "language": "python",
   "name": "python3"
  },
  "language_info": {
   "codemirror_mode": {
    "name": "ipython",
    "version": 3
   },
   "file_extension": ".py",
   "mimetype": "text/x-python",
   "name": "python",
   "nbconvert_exporter": "python",
   "pygments_lexer": "ipython3",
   "version": "3.10.11"
  }
 },
 "nbformat": 4,
 "nbformat_minor": 2
}
