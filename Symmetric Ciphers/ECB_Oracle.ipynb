{
 "cells": [
  {
   "cell_type": "code",
   "execution_count": null,
   "metadata": {},
   "outputs": [],
   "source": [
    "%pip install PyCryptodome"
   ]
  },
  {
   "cell_type": "code",
   "execution_count": null,
   "metadata": {},
   "outputs": [],
   "source": [
    "import requests\n",
    "from Crypto.Util.Padding import pad, unpad"
   ]
  },
  {
   "cell_type": "code",
   "execution_count": null,
   "metadata": {},
   "outputs": [],
   "source": [
    "asscii_letters = [chr(i).encode() for i in range(32, 127)]\n",
    "\n",
    "def seperate2blocks(data, block_size):\n",
    "    return [data[i:i+block_size] for i in range(0, len(data), block_size)]\n",
    "\n",
    "def encrypt(plaintext):\n",
    "    return requests.get(f'https://aes.cryptohack.org/ecb_oracle/encrypt/{plaintext}/').json()['ciphertext']"
   ]
  },
  {
   "cell_type": "markdown",
   "metadata": {},
   "source": [
    "For solving this challenge, we will use the fact that ECB encrypts each block separately and make sure that we could control the content of the block to reveal the flag.\n",
    "For example if we'll send the following message (in hex):\n",
    "$$ P = \"a\"*30 $$\n",
    "as each block is 32 hex characters (2 hex = 1 byte) we know that the first block of the encrypted message will be:\n",
    "$$ C = [\\underbrace{E(\"a\"*30 + F_1)}_{\\text{first block}}, ...] $$\n",
    "where $F_1$ is the first character of the flag. We can now brute force the first character of the flag by sending plaintext messages of the form $$\"a\"*30 + c$$ where $c$ is an ascii character, and comparing the results to the first block of $C$ until a match is found.\n",
    "When $F_1$ is found, we can repeat the process for the second character of the flag as in that case:\n",
    "$$ C = E(\"a\"*28 + F_1 + F_2) $$\n",
    "and we can apply the same method again. We can repeat this process until we find $F_1, F_2, ..., F_{15}$. Now we can look at the second block. If we'll send $\"a\"*32$ as the plaintext, we'll get:\n",
    "$$ C = [\\underbrace{E(\"a\"*32)}_{\\text{first block}}, \\underbrace{E(F_1...F_{16})}_{\\text{second block}},...] $$\n",
    "and again as we know $F_1, F_2, ..., F_{15}$ we can brute force $F_{16}$. Sending $\"a\"*30$ will give us:\n",
    "$$ C = [\\underbrace{E(\"a\"*30+F_1)}_{\\text{first block}}, \\underbrace{E(F_2...F_{17})}_{\\text{second block}},...] $$\n",
    "and so moving by controlling the plaintext we can move block by block until all the flag bytes are found."
   ]
  },
  {
   "cell_type": "code",
   "execution_count": null,
   "metadata": {},
   "outputs": [],
   "source": [
    "#this code could take some time - be patient\n",
    "try:\n",
    "    flag = b''\n",
    "    for iblock in range(4):\n",
    "        for i in range(16, 0, -1):\n",
    "            if iblock==0 and i==16: continue\n",
    "            brute_force_blocks = {seperate2blocks(encrypt(\"00\"*i + (flag + c).hex()),32)[iblock] : c for c in asscii_letters}\n",
    "            x = seperate2blocks(encrypt(\"00\"*i), 32)[iblock]\n",
    "            flag = flag + brute_force_blocks[x]\n",
    "            print(flag)\n",
    "except KeyError: #the code will raise an error when the flag is found\n",
    "    print(\"The flag is: \" + flag.decode())\n"
   ]
  }
 ],
 "metadata": {
  "kernelspec": {
   "display_name": "Python 3",
   "language": "python",
   "name": "python3"
  },
  "language_info": {
   "codemirror_mode": {
    "name": "ipython",
    "version": 3
   },
   "file_extension": ".py",
   "mimetype": "text/x-python",
   "name": "python",
   "nbconvert_exporter": "python",
   "pygments_lexer": "ipython3",
   "version": "3.10.11"
  }
 },
 "nbformat": 4,
 "nbformat_minor": 2
}
