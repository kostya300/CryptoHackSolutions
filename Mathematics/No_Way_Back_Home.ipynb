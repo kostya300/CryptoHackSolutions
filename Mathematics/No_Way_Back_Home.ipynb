{
 "cells": [
  {
   "cell_type": "code",
   "execution_count": null,
   "metadata": {},
   "outputs": [],
   "source": [
    "%pip install PyCryptodome"
   ]
  },
  {
   "cell_type": "code",
   "execution_count": null,
   "metadata": {},
   "outputs": [],
   "source": [
    "from Crypto.Util.number import inverse, long_to_bytes, bytes_to_long\n",
    "from Crypto.Cipher import AES\n",
    "from hashlib import sha256\n",
    "import math"
   ]
  },
  {
   "cell_type": "code",
   "execution_count": null,
   "metadata": {},
   "outputs": [],
   "source": [
    "p, q = (10699940648196411028170713430726559470427113689721202803392638457920771439452897032229838317321639599506283870585924807089941510579727013041135771337631951, 11956676387836512151480744979869173960415735990945471431153245263360714040288733895951317727355037104240049869019766679351362643879028085294045007143623763) \n",
    "vka = 124641741967121300068241280971408306625050636261192655845274494695382484894973990899018981438824398885984003880665335336872849819983045790478166909381968949910717906136475842568208640203811766079825364974168541198988879036997489130022151352858776555178444457677074095521488219905950926757695656018450299948207 \n",
    "vkakb = 114778245184091677576134046724609868204771151111446457870524843414356897479473739627212552495413311985409829523700919603502616667323311977056345059189257932050632105761365449853358722065048852091755612586569454771946427631498462394616623706064561443106503673008210435922340001958432623802886222040403262923652 \n",
    "vkb = 6568897840127713147382345832798645667110237168011335640630440006583923102503659273104899584827637961921428677335180620421654712000512310008036693022785945317428066257236409339677041133038317088022368203160674699948914222030034711433252914821805540365972835274052062305301998463475108156010447054013166491083 \n",
    "c = 'fef29e5ff72f28160027959474fc462e2a9e0b2d84b1508f7bd0e270bc98fac942e1402aa12db6e6a36fb380e7b53323'\n",
    "\n",
    "n = p * q"
   ]
  },
  {
   "cell_type": "markdown",
   "metadata": {},
   "source": [
    "The key exchange for $v$ in nowayback.py is the following:\n",
    "$$\\begin{aligned}\n",
    "v &= p * rand(1,n) &\\pmod n \\\\\n",
    "v_{k_a} &= v * k_a &\\pmod n \\\\\n",
    "v_{k_ak_b} &= v_{k_a} * k_b = v * k_a * k_b &\\pmod n \\\\\n",
    "v_{k_b} &= v_{k_ak_b} * k_a^{-1} = v * k_a * k_b * k_a^{-1} = v * k_b &\\pmod n \\\\\n",
    "v_s &= v_{k_b} * k_b^{-1} = v * k_b * k_b^{-1} = v &\\pmod n\n",
    "\\end{aligned}$$\n",
    "\n",
    "We can look at the same equations modulo $q$ and they will look in the same way because $q$ is a factor of $n$. This will help us because although $v$ dosen't have an inverse modulo $n$ (as $p$ is one of it's factors), it has an inverse modulo $q$.\n",
    "\n",
    "This means we can calculate:\n",
    "$$\\begin{aligned}\n",
    "k_a &= v_{k_a}^{-1} * v_{k_ak_b} &\\pmod q \\\\\n",
    "k_b &= v_{k_b}^{-1} * v_{k_ak_b} &\\pmod q\n",
    "\\end{aligned}$$"
   ]
  },
  {
   "cell_type": "code",
   "execution_count": null,
   "metadata": {},
   "outputs": [],
   "source": [
    "ka_q = (inverse(vkb, q) * vkakb) % q\n",
    "kb_q = (inverse(vka, q) * vkakb) % q\n",
    "ka_q, kb_q"
   ]
  },
  {
   "cell_type": "markdown",
   "metadata": {},
   "source": [
    "And also to calculate $v$:\n",
    "$$v = v_{k_a} * k_a^{-1} \\pmod q$$"
   ]
  },
  {
   "cell_type": "code",
   "execution_count": null,
   "metadata": {},
   "outputs": [],
   "source": [
    "v_q = (vka * inverse(ka_q,q)) % q\n",
    "v_q"
   ]
  },
  {
   "cell_type": "markdown",
   "metadata": {},
   "source": [
    "Let's call this value $v_q$. This means we know The following equations:\n",
    "$$\\begin{aligned}\n",
    "v &= v_q &\\pmod q \\\\\n",
    "v &= p*rand(1,n) = 0 &\\pmod p \\\\\n",
    "\\end{aligned}$$\n",
    "using the Chinese Remainder Theorem we can calculate $v$."
   ]
  },
  {
   "cell_type": "code",
   "execution_count": null,
   "metadata": {},
   "outputs": [],
   "source": [
    "#see https://rosettacode.org/wiki/Chinese_remainder_theorem#Python\n",
    "from functools import reduce\n",
    "def chinese_remainder(n, a):\n",
    "    sum = 0\n",
    "    prod = reduce(lambda a, b: a*b, n)\n",
    "    for n_i, a_i in zip(n, a):\n",
    "        p = prod // n_i\n",
    "        sum += a_i * inverse(p, n_i) * p\n",
    "    return sum % prod"
   ]
  },
  {
   "cell_type": "code",
   "execution_count": null,
   "metadata": {},
   "outputs": [],
   "source": [
    "v = chinese_remainder([p, q], [0, v_q])\n",
    "v"
   ]
  },
  {
   "cell_type": "code",
   "execution_count": null,
   "metadata": {},
   "outputs": [],
   "source": [
    "#reversig the encryption\n",
    "key = sha256(long_to_bytes(v)).digest()\n",
    "cipher = AES.new(key, AES.MODE_ECB)\n",
    "m = cipher.decrypt(bytes.fromhex(c))\n",
    "m"
   ]
  }
 ],
 "metadata": {
  "kernelspec": {
   "display_name": "Python 3",
   "language": "python",
   "name": "python3"
  },
  "language_info": {
   "codemirror_mode": {
    "name": "ipython",
    "version": 3
   },
   "file_extension": ".py",
   "mimetype": "text/x-python",
   "name": "python",
   "nbconvert_exporter": "python",
   "pygments_lexer": "ipython3",
   "version": "3.10.11"
  }
 },
 "nbformat": 4,
 "nbformat_minor": 2
}
