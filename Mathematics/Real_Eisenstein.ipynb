{
 "cells": [
  {
   "cell_type": "code",
   "execution_count": null,
   "metadata": {},
   "outputs": [],
   "source": [
    "%pip install olll"
   ]
  },
  {
   "cell_type": "code",
   "execution_count": null,
   "metadata": {},
   "outputs": [],
   "source": [
    "import math\n",
    "from decimal import *\n",
    "getcontext().prec = 200\n",
    "import olll"
   ]
  },
  {
   "cell_type": "code",
   "execution_count": null,
   "metadata": {},
   "outputs": [],
   "source": [
    "PRIMES = [2, 3, 5, 7, 11, 13, 17, 19, 23, 29, 31, 37, 41, 43, 47, 53, 59, 61, 67, 71, 73, 79, 83, 89, 97, 101, 103]\n",
    "c = 1350995397927355657956786955603012410260017344805998076702828160316695004588429433"
   ]
  },
  {
   "cell_type": "markdown",
   "metadata": {},
   "source": [
    "Mathematically the cipher is calculated as:\n",
    "$$c = \\lfloor \\sum_i{m_i \\left({16}^{64}\\sqrt{p_i}\\right)}\\rfloor$$\n",
    "This means the cipher is a linear combination (with integer coefficients) of numbers - sounds pretty like a lattic problem.\n",
    "Later I found this lecture summary: https://people.csail.mit.edu/vinodv/6876-Fall2015/L5.pdf\n",
    "In this lecture a method to solve this kind of probelm is presented, it involves transforming this problem to shortest vector problem (SVP) and then using LLL algorithm to solve it.\n",
    "By defining:\n",
    "$$ M=\t\\begin{pmatrix}\n",
    "1 & 0 & 0 & ... & 0 & \\left[{16}^{64}\\sqrt{p_0}\\right]\\\\\n",
    "0 & 1 & 0 & ... & 0 & \\left[{16}^{64}\\sqrt{p_1}\\right]\\\\\n",
    "  &   &  &  ...  &  &\\\\\n",
    "0 & 0 & 0 & ... & 1 & \\left[{16}^{64}\\sqrt{p_{N-1}}\\right]\\\\\n",
    "0 & 0 & 0 & ... & 0 & c\\\\\n",
    "\\end{pmatrix}$$\n",
    "This definition is great as we know there must be a linear combination of the first $N$ which will give us $c$ in the last column and could cancel it. This will shorten the vector drastically, and we can use LLL to find it."
   ]
  },
  {
   "cell_type": "code",
   "execution_count": null,
   "metadata": {},
   "outputs": [],
   "source": [
    "encrypt_basis = [round(Decimal(PRIMES[i]).sqrt()*16**64) for i in range(len(PRIMES))]\n",
    "m = [[1 if j==i else 0 for j in range(len(encrypt_basis))] + [encrypt_basis[i]] for i in range(len(encrypt_basis))]\n",
    "m.append([0]*len(encrypt_basis) + [c])\n",
    "m"
   ]
  },
  {
   "cell_type": "markdown",
   "metadata": {},
   "source": [
    "As I couldn't find any implementation of LLL in pure python, I used sagemath to solve this problem. The code is attached below (you can run it on https://sagecell.sagemath.org/):\n",
    "```python\n",
    "m = ... # matrix generated above\n",
    "m = Matrix(ZZ, m)\n",
    "lll_result = m.LLL()\n",
    "print(\"\".join([chr(-x) for x in lll_result[0][:-1]])) #convert first row of LLL to string\n",
    "```"
   ]
  }
 ],
 "metadata": {
  "kernelspec": {
   "display_name": "Python 3",
   "language": "python",
   "name": "python3"
  },
  "language_info": {
   "codemirror_mode": {
    "name": "ipython",
    "version": 3
   },
   "file_extension": ".py",
   "mimetype": "text/x-python",
   "name": "python",
   "nbconvert_exporter": "python",
   "pygments_lexer": "ipython3",
   "version": "3.10.11"
  }
 },
 "nbformat": 4,
 "nbformat_minor": 2
}
