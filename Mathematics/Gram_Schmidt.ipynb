{
 "cells": [
  {
   "cell_type": "code",
   "execution_count": null,
   "metadata": {},
   "outputs": [],
   "source": [
    "%pip install numpy"
   ]
  },
  {
   "cell_type": "code",
   "execution_count": null,
   "metadata": {},
   "outputs": [],
   "source": [
    "import numpy as np"
   ]
  },
  {
   "cell_type": "code",
   "execution_count": null,
   "metadata": {},
   "outputs": [],
   "source": [
    "v = [np.array((4,1,3,-1)), np.array((2,1,-3,4)), np.array((1,0,-2,7)), np.array((6, 2, 9, -5))]\n",
    "\n",
    "u = [v[0]]\n",
    "for i in range(1, 4):\n",
    "    new_u = v[i] - sum( (v[i]@u[j]) / (u[j]@u[j]) * u[j] for j in range(i)) #gram schmidt formula\n",
    "    u.append(new_u)\n",
    "\n",
    "round(u[3][1], 5) # the second element of u4"
   ]
  }
 ],
 "metadata": {
  "kernelspec": {
   "display_name": "Python 3",
   "language": "python",
   "name": "python3"
  },
  "language_info": {
   "codemirror_mode": {
    "name": "ipython",
    "version": 3
   },
   "file_extension": ".py",
   "mimetype": "text/x-python",
   "name": "python",
   "nbconvert_exporter": "python",
   "pygments_lexer": "ipython3",
   "version": "3.10.11"
  }
 },
 "nbformat": 4,
 "nbformat_minor": 2
}
