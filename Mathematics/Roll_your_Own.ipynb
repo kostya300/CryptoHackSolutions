{
 "cells": [
  {
   "cell_type": "code",
   "execution_count": null,
   "metadata": {},
   "outputs": [],
   "source": [
    "%pip install pwntools"
   ]
  },
  {
   "cell_type": "code",
   "execution_count": null,
   "metadata": {},
   "outputs": [],
   "source": [
    "from pwn import remote\n",
    "from Crypto.Util.number import getPrime\n",
    "import json"
   ]
  },
  {
   "cell_type": "code",
   "execution_count": null,
   "metadata": {},
   "outputs": [],
   "source": [
    "def json_recv(r):\n",
    "    line = r.recvline()\n",
    "    return json.loads(line.decode())\n",
    "\n",
    "def json_send(r, hsh):\n",
    "    request = json.dumps(hsh).encode()\n",
    "    r.sendline(request)"
   ]
  },
  {
   "cell_type": "code",
   "execution_count": null,
   "metadata": {},
   "outputs": [],
   "source": [
    "HOST = \"socket.cryptohack.org\"\n",
    "PORT = 13403\n",
    "\n",
    "r = remote(HOST, PORT)\n",
    "line = r.recvline()\n",
    "line"
   ]
  },
  {
   "cell_type": "code",
   "execution_count": null,
   "metadata": {},
   "outputs": [],
   "source": [
    "q = int(line.split(b'\"')[1], 16)\n",
    "q"
   ]
  },
  {
   "cell_type": "markdown",
   "metadata": {},
   "source": [
    "As we see in 13403.py, we will have to solve a discrete logarithm problem in order to find the private key. We see from the code we need to find an $n$ and $g$ such that $g^q = 1 \\pmod n$.\n",
    "\n",
    "This is a little bit tricky as we we'll need to choose a value of $n$ for which calculating the discrete logarithm is feasible. The first thing that comes to mind is to choose $n=q$, but then by Fermat's little theorem we to choose the trivial $g=1$, which will no allow us to find the private key $x$.\n",
    "\n",
    "We can try $n=q^2$ for which we'll need to solve:\n",
    "$$g^q = 1 \\pmod {q^2}$$\n",
    "\n",
    "We can use the interesting fact that:\n",
    "$$(q+1)^a = \\sum_{k=0}^a \\binom{a}{k} q^k = 1 + aq + \\sum_{k=2}^a \\binom{a}{k} q^k = 1 + aq + q^2 \\sum_{k=2}^a \\binom{a}{k} q^{k-2}$$\n",
    "Which means:\n",
    "$$(q+1)^a = 1 + aq \\pmod {q^2}$$\n",
    "Or specifically:\n",
    "$$(q+1)^q = 1 + q^2 = 1\\pmod {q^2}$$\n",
    "So by choosing $g=q+1$ we can find the private key $x$:\n",
    "$$g^x = (q+1)^x = 1+xq \\pmod {q^2} \\Rightarrow x = \\frac{g^x-1}{q}$$"
   ]
  },
  {
   "cell_type": "code",
   "execution_count": null,
   "metadata": {},
   "outputs": [],
   "source": [
    "json_send(r, {'g':hex(q+1), 'n':hex(q**2)})\n",
    "line = r.recvline()\n",
    "line"
   ]
  },
  {
   "cell_type": "code",
   "execution_count": null,
   "metadata": {},
   "outputs": [],
   "source": [
    "gx = int(line.split(b'\"')[1], 16)\n",
    "x = (gx - 1)//q\n",
    "json_send(r, {'x':hex(x)})\n",
    "line = r.recvline()\n",
    "line"
   ]
  }
 ],
 "metadata": {
  "kernelspec": {
   "display_name": "Python 3",
   "language": "python",
   "name": "python3"
  },
  "language_info": {
   "codemirror_mode": {
    "name": "ipython",
    "version": 3
   },
   "file_extension": ".py",
   "mimetype": "text/x-python",
   "name": "python",
   "nbconvert_exporter": "python",
   "pygments_lexer": "ipython3",
   "version": "3.10.11"
  }
 },
 "nbformat": 4,
 "nbformat_minor": 2
}
