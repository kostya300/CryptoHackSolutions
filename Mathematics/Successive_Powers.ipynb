{
 "cells": [
  {
   "cell_type": "code",
   "execution_count": null,
   "metadata": {},
   "outputs": [],
   "source": [
    "#see https://cp-algorithms.com/algebra/extended-euclid-algorithm.html\n",
    "def extended_gcd(a, b):\n",
    "    if b == 0: return 1, 0, a\n",
    "    x, y, gcd = extended_gcd(b, a % b)\n",
    "    return y, x - y * (a // b), gcd"
   ]
  },
  {
   "cell_type": "code",
   "execution_count": null,
   "metadata": {},
   "outputs": [],
   "source": [
    "L = [588, 665, 216, 113, 642, 4, 836, 114, 851, 492, 819, 237]"
   ]
  },
  {
   "cell_type": "markdown",
   "metadata": {},
   "source": [
    "A successive power series of $x$ has an interesting property:\n",
    "$$x^{m+1} = x^{m} * x$$\n",
    "so by using the values given to us we can write the following equations based on the first three elements of $L$:\n",
    "$$\\begin{aligned}\n",
    "588 * x &= 665 \\pmod q \\\\\n",
    "665 * x &= 216 \\pmod q \\\\\n",
    "216 * x &= 113 \\pmod q \\\\\n",
    "...\n",
    "\\end{aligned}$$\n",
    "\n",
    "Using the extended euclid's algorithm we see that:"
   ]
  },
  {
   "cell_type": "code",
   "execution_count": null,
   "metadata": {},
   "outputs": [],
   "source": [
    "a, b, gcd = extended_gcd(665, 216)\n",
    "a, b, gcd"
   ]
  },
  {
   "cell_type": "markdown",
   "metadata": {},
   "source": [
    "Which means we can combine both equations (2) and (3) to get:"
   ]
  },
  {
   "cell_type": "code",
   "execution_count": null,
   "metadata": {},
   "outputs": [],
   "source": [
    "f'{L[1]*a+L[2]*b} * x = {L[2]*a+L[3]*b} (mod q)'"
   ]
  },
  {
   "cell_type": "markdown",
   "metadata": {},
   "source": [
    "We can use this discovery to by replacing the value of $x$ in equation where $4$ is the factor:"
   ]
  },
  {
   "cell_type": "code",
   "execution_count": null,
   "metadata": {},
   "outputs": [],
   "source": [
    "f'{L[5]} * x = {L[6]} (mod q) => {L[5] * (L[2]*a+L[3]*b) - L[6]} = {L[5]} * {L[2]*a+L[3]*b} - {L[6]} = 0 (mod q)'"
   ]
  },
  {
   "cell_type": "markdown",
   "metadata": {},
   "source": [
    "Which means $-47788$ must be divisible by $q$. Let's try to find it's factors. First we see it's even so we can divide it by $2$:"
   ]
  },
  {
   "cell_type": "code",
   "execution_count": null,
   "metadata": {},
   "outputs": [],
   "source": [
    "print(47788/2, 47788/4, 47788/8, '...')"
   ]
  },
  {
   "cell_type": "markdown",
   "metadata": {},
   "source": [
    "As 11947 is a \"small number\" ($\\sqrt{11947} < 110$) and we now $q$ is three digits long, we can do a \"brute-force\" search for small prime factors:"
   ]
  },
  {
   "cell_type": "code",
   "execution_count": null,
   "metadata": {},
   "outputs": [],
   "source": [
    "[i for i in range(2, 110) if 11947%i == 0]"
   ]
  },
  {
   "cell_type": "code",
   "execution_count": null,
   "metadata": {},
   "outputs": [],
   "source": [
    "print('q =', 11947 // 13)"
   ]
  },
  {
   "cell_type": "markdown",
   "metadata": {},
   "source": [
    "And by using $x = -11738 \\pmod q$ we find:"
   ]
  },
  {
   "cell_type": "code",
   "execution_count": null,
   "metadata": {},
   "outputs": [],
   "source": [
    "print('x =', -11738 % 919)"
   ]
  }
 ],
 "metadata": {
  "kernelspec": {
   "display_name": "Python 3",
   "language": "python",
   "name": "python3"
  },
  "language_info": {
   "codemirror_mode": {
    "name": "ipython",
    "version": 3
   },
   "file_extension": ".py",
   "mimetype": "text/x-python",
   "name": "python",
   "nbconvert_exporter": "python",
   "pygments_lexer": "ipython3",
   "version": "3.10.11"
  }
 },
 "nbformat": 4,
 "nbformat_minor": 2
}
