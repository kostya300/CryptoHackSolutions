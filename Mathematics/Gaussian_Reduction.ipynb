{
 "cells": [
  {
   "cell_type": "code",
   "execution_count": null,
   "metadata": {},
   "outputs": [],
   "source": [
    "import math\n",
    "\n",
    "v1 = (846835985, 9834798552)\n",
    "v2 = (87502093, 123094980)\n",
    "\n",
    "dot_prod = lambda v1, v2: sum(x*y for x,y in zip(v1,v2))\n",
    "norm = lambda v: math.sqrt(dot_prod(v,v))\n",
    "\n",
    "def gaussian_reduction(v1: tuple[int,int], v2: tuple[int,int]) -> tuple[int,int]:\n",
    "    while True:\n",
    "        if norm(v1) > norm(v2):\n",
    "            v1, v2 = v2, v1 #swap vectors\n",
    "        m = int(round(dot_prod(v1,v2) / dot_prod(v1,v1)))\n",
    "        if m == 0: break\n",
    "        v2 = tuple(v2[i] - m*v1[i] for i in range(len(v1)))\n",
    "    return v1, v2\n",
    "\n",
    "u1, u2 = gaussian_reduction(v1,v2)\n",
    "\n",
    "dot_prod(u1,u2)"
   ]
  }
 ],
 "metadata": {
  "kernelspec": {
   "display_name": "Python 3",
   "language": "python",
   "name": "python3"
  },
  "language_info": {
   "codemirror_mode": {
    "name": "ipython",
    "version": 3
   },
   "file_extension": ".py",
   "mimetype": "text/x-python",
   "name": "python",
   "nbconvert_exporter": "python",
   "pygments_lexer": "ipython3",
   "version": "3.10.11"
  }
 },
 "nbformat": 4,
 "nbformat_minor": 2
}
