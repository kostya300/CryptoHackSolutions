{
 "cells": [
  {
   "cell_type": "markdown",
   "metadata": {},
   "source": [
    "Lets look at the equations:\n",
    "$$x \\equiv 2 \\pmod 5$$\n",
    "$$x \\equiv 3 \\pmod {11}$$\n",
    "$$x \\equiv 5 \\pmod {17}$$\n",
    "\n",
    "We can solve this easily (altough not efficiently) by writing all the numbers that satisfy each equation and then finding the intersection of all the sets."
   ]
  },
  {
   "cell_type": "code",
   "execution_count": null,
   "metadata": {},
   "outputs": [],
   "source": [
    "set(range(2, 935, 5)) & set(range(3, 935, 11)) & set(range(5, 935, 17))"
   ]
  }
 ],
 "metadata": {
  "kernelspec": {
   "display_name": "Python 3",
   "language": "python",
   "name": "python3"
  },
  "language_info": {
   "codemirror_mode": {
    "name": "ipython",
    "version": 3
   },
   "file_extension": ".py",
   "mimetype": "text/x-python",
   "name": "python",
   "nbconvert_exporter": "python",
   "pygments_lexer": "ipython3",
   "version": "3.10.11"
  }
 },
 "nbformat": 4,
 "nbformat_minor": 2
}
