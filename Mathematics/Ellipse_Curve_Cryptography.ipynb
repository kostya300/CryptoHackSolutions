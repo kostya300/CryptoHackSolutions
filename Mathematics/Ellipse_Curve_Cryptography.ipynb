{
 "cells": [
  {
   "cell_type": "code",
   "execution_count": null,
   "metadata": {},
   "outputs": [],
   "source": [
    "%pip install PyCryptodome"
   ]
  },
  {
   "cell_type": "code",
   "execution_count": null,
   "metadata": {},
   "outputs": [],
   "source": [
    "from Crypto.Cipher import AES\n",
    "from Crypto.Util.number import inverse\n",
    "from hashlib import sha1\n",
    "import math\n",
    "from tqdm.auto import tqdm"
   ]
  },
  {
   "cell_type": "code",
   "execution_count": null,
   "metadata": {},
   "outputs": [],
   "source": [
    "from collections import namedtuple\n",
    "Point = namedtuple(\"Point\", \"x y\") #from source.py\n",
    "\n",
    "def point_addition(P, Q):\n",
    "    Rx = (P.x*Q.x + D*P.y*Q.y) % p\n",
    "    Ry = (P.x*Q.y + P.y*Q.x) % p\n",
    "    return Point(Rx, Ry)\n",
    "\n",
    "\n",
    "def scalar_multiplication(P, n):\n",
    "    Q = Point(1, 0)\n",
    "    while n > 0:\n",
    "        if n % 2 == 1:\n",
    "            Q = point_addition(Q, P)\n",
    "        P = point_addition(P, P)\n",
    "        n = n//2\n",
    "    return Q"
   ]
  },
  {
   "cell_type": "code",
   "execution_count": null,
   "metadata": {},
   "outputs": [],
   "source": [
    "# Curve parameters - from source.py\n",
    "p = 173754216895752892448109692432341061254596347285717132408796456167143559\n",
    "D = 529\n",
    "G = Point(29394812077144852405795385333766317269085018265469771684226884125940148,\n",
    "          94108086667844986046802106544375316173742538919949485639896613738390948)\n",
    "\n",
    "\n",
    "k_alice = Point(x=155781055760279718382374741001148850818103179141959728567110540865590463, y=73794785561346677848810778233901832813072697504335306937799336126503714)\n",
    "k_bob = Point(x=171226959585314864221294077932510094779925634276949970785138593200069419, y=54353971839516652938533335476115503436865545966356461292708042305317630)\n",
    "e_flag = {'iv': '64bc75c8b38017e1397c46f85d4e332b', 'encrypted_flag': '13e4d200708b786d8f7c3bd2dc5de0201f0d7879192e6603d7c5d6b963e1df2943e3ff75f7fda9c30a92171bbbc5acbf'}\n"
   ]
  },
  {
   "cell_type": "markdown",
   "metadata": {},
   "source": [
    "The code line in source.py that made me suspicious was:\n",
    "```python\n",
    "    assert (A.x**2 - D*A.y**2) % p == 1\n",
    "```\n",
    "and from that everyhing made sense - the curve is not an **elliptic** curve, but an **ellipse**.\n",
    "The curve is defined by the relation:\n",
    "$$x^2 - D*y^2 = 1 \\pmod p$$\n",
    "So we can hope that for the case of an ellipse the scalar multiplication is easly reversible."
   ]
  },
  {
   "cell_type": "markdown",
   "metadata": {},
   "source": [
    "We'll look at - https://citeseerx.ist.psu.edu/viewdoc/download?doi=10.1.1.66.8688&rep=rep1&type=pdf\n",
    "\n",
    "Section 3 in the paper describes a way to create an isomorphism between the group of points on the curve and the group of integers modulo $p -\\chi(D)$ where:\n",
    "$$ \\chi(D) = \\begin{cases} 0 & \\text{if } D=0 \\\\\n",
    "                           1 & \\text{if } D \\text{ is quadratic residue modulo } p\\\\\n",
    "                           -1 & \\text{otherwise} \\end{cases}$$"
   ]
  },
  {
   "cell_type": "code",
   "execution_count": null,
   "metadata": {},
   "outputs": [],
   "source": [
    "chi_D = pow(D, (p-1)//2, p)\n",
    "chi_D"
   ]
  },
  {
   "cell_type": "markdown",
   "metadata": {},
   "source": [
    "In that case the paper tells us to find the sqrt of $D$:"
   ]
  },
  {
   "cell_type": "code",
   "execution_count": null,
   "metadata": {},
   "outputs": [],
   "source": [
    "sqrtD = int(math.sqrt(D)) #we are lucky as D=23**2 \n",
    "sqrtD"
   ]
  },
  {
   "cell_type": "markdown",
   "metadata": {},
   "source": [
    "from which the following isomorphism is created:\n",
    "$$ (x,y) \\mapsto x - \\sqrt{D}y$$"
   ]
  },
  {
   "cell_type": "code",
   "execution_count": null,
   "metadata": {},
   "outputs": [],
   "source": [
    "point_iso = lambda P: (P.x - sqrtD*P.y) % p\n",
    "G_iso = point_iso(G)\n",
    "k_alice_iso = point_iso(k_alice)\n",
    "k_bob_iso = point_iso(k_bob)"
   ]
  },
  {
   "cell_type": "code",
   "execution_count": null,
   "metadata": {},
   "outputs": [],
   "source": [
    "G_iso, k_alice_iso, k_bob_iso"
   ]
  },
  {
   "cell_type": "markdown",
   "metadata": {},
   "source": [
    "Now to solve the equation k_alice_iso**x = G_iso mod p we will use sage math to find the discrete logarithm. To do this will run the following lines in https://sagecell.sagemath.org/\n",
    "\n",
    "```python\n",
    "p=173754216895752892448109692432341061254596347285717132408796456167143559\n",
    "Zp = Zmod(p)\n",
    "G_iso = Zp(22288939911082159892714073512476247408798262113701860676893915460297072)\n",
    "k_alice_iso = Zp(123713638361497775154772936433567841582759137820954323280958698315814611)\n",
    "discrete_log(G_iso, k_alice_iso, p-1, operation='*')\n",
    "```\n",
    "\n",
    "The answer we get is\n",
    "$$x = 85659350935432836744105386596354218808820976897571304400328185351959247$$"
   ]
  },
  {
   "cell_type": "code",
   "execution_count": null,
   "metadata": {},
   "outputs": [],
   "source": [
    "#validate\n",
    "na = 85659350935432836744105386596354218808820976897571304400328185351959247\n",
    "scalar_multiplication(G, na) == k_alice"
   ]
  },
  {
   "cell_type": "code",
   "execution_count": null,
   "metadata": {},
   "outputs": [],
   "source": [
    "iv = bytes.fromhex(e_flag['iv'])\n",
    "encrypted = bytes.fromhex(e_flag['encrypted_flag'])\n",
    "\n",
    "shared_secret = scalar_multiplication(k_bob, na).x #taken from \"gen_shared_secret\" in source.py\n",
    "\n",
    "key = sha1(str(shared_secret).encode('ascii')).digest()[:16]\n",
    "cipher = AES.new(key, AES.MODE_CBC, iv)\n",
    "d = cipher.decrypt(encrypted)\n",
    "d"
   ]
  }
 ],
 "metadata": {
  "kernelspec": {
   "display_name": "Python 3",
   "language": "python",
   "name": "python3"
  },
  "language_info": {
   "codemirror_mode": {
    "name": "ipython",
    "version": 3
   },
   "file_extension": ".py",
   "mimetype": "text/x-python",
   "name": "python",
   "nbconvert_exporter": "python",
   "pygments_lexer": "ipython3",
   "version": "3.10.11"
  }
 },
 "nbformat": 4,
 "nbformat_minor": 2
}
