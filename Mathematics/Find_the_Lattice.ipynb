{
 "cells": [
  {
   "cell_type": "code",
   "execution_count": null,
   "metadata": {},
   "outputs": [],
   "source": [
    "%pip install PyCryptodome"
   ]
  },
  {
   "cell_type": "code",
   "execution_count": null,
   "metadata": {},
   "outputs": [],
   "source": [
    "from Crypto.Util.number import inverse, long_to_bytes\n",
    "import math\n"
   ]
  },
  {
   "cell_type": "code",
   "execution_count": null,
   "metadata": {},
   "outputs": [],
   "source": [
    "dot_prod = lambda v1, v2: sum(x*y for x,y in zip(v1,v2))\n",
    "norm = lambda v: math.sqrt(dot_prod(v,v))\n",
    "\n",
    "#taken from previous challenge\n",
    "def gaussian_reduction(v1: tuple[int,int], v2: tuple[int,int]) -> tuple[int,int]:\n",
    "    while True:\n",
    "        if norm(v1) > norm(v2):\n",
    "            v1, v2 = v2, v1 #swap vectors\n",
    "        m = int(round(dot_prod(v1,v2) / dot_prod(v1,v1)))\n",
    "        if m == 0: break\n",
    "        v2 = tuple(v2[i] - m*v1[i] for i in range(len(v1)))\n",
    "    return v1, v2"
   ]
  },
  {
   "cell_type": "markdown",
   "metadata": {},
   "source": [
    "Let's try to understand source.py:\n",
    "\n",
    "```python\n",
    "def gen_key():\n",
    "    q = getPrime(512)\n",
    "    upper_bound = int(math.sqrt(q // 2))\n",
    "    lower_bound = int(math.sqrt(q // 4))\n",
    "    f = random.randint(2, upper_bound)\n",
    "    while True:\n",
    "        g = random.randint(lower_bound, upper_bound)\n",
    "        if math.gcd(f, g) == 1:\n",
    "            break\n",
    "    h = (inverse(f, q)*g) % q\n",
    "    return (q, h), (f, g)\n",
    "``` \n",
    "\n",
    "Let's write the code in mathematical notation. We generate some prime $q$ and two co-prime numbers $f$ and $g$. We define $h$ in so:\n",
    "$$f * h = g \\pmod q$$\n",
    "\n",
    "To encrypt a message $m$ we do the following $e = (h*r + m) \\pmod q$. To decrypt we calculate:\n",
    "$$m = (f*e \\pmod q) * f^{-1} \\pmod g$$\n",
    "where $f^{-1}$ is the inverse of $f$ modulo $g$.\n",
    "\n",
    "Why does it works?\n",
    "$$(f*e \\pmod q) * f^{-1} \\pmod g = (f*h*r + f*m \\pmod q) * f^{-1} \\pmod g $$\n",
    "now remember how we defined h and we get:\n",
    "$$(g*r + f*m \\pmod q) * f^{-1} \\pmod g$$\n",
    "now because $m, f, g, r < \\sqrt{\\frac{q}{2}}$ every mutipication of a pair of them is less than $q$:\n",
    "$$\\begin{aligned}\n",
    "(g*r \\pmod q) * f^{-1}\\pmod g &= g*r*f^{-1}\\pmod g = 0 \\\\\n",
    "(f*m \\pmod q) * f^{-1} \\pmod g &= f*m*f^{-1} \\pmod g = m\n",
    "\\end{aligned}$$"
   ]
  },
  {
   "cell_type": "markdown",
   "metadata": {},
   "source": [
    "Now... how can we use our knowledge of lattices to decrypt the flag?\n",
    "\n",
    "Let's take a look at the definition of $h$ again:\n",
    "$$ g = f * h \\pmod q$$\n",
    "We can rewrite it as:\n",
    "$$g = f * h - c * q$$\n",
    "where $c$ is some integer. The trick here is to add some trivail equation to the system of equations:\n",
    "$$f = f * 1 - c * 0$$\n",
    "so we can combine them:\n",
    "$$(g,f) = f*(h,1) - c*(q,0)$$\n",
    "Which is great! It means the lattice created by $(q,0)$ and $(h,1)$ contains $(g,f)$. If $(g,f)$ is shorter than $(q,0)$ and $(h,1)$ we can use gaussian reduction to find it."
   ]
  },
  {
   "cell_type": "code",
   "execution_count": null,
   "metadata": {},
   "outputs": [],
   "source": [
    "q, h = (7638232120454925879231554234011842347641017888219021175304217358715878636183252433454896490677496516149889316745664606749499241420160898019203925115292257, 2163268902194560093843693572170199707501787797497998463462129592239973581462651622978282637513865274199374452805292639586264791317439029535926401109074800)\n",
    "e = 5605696495253720664142881956908624307570671858477482119657436163663663844731169035682344974286379049123733356009125671924280312532755241162267269123486523"
   ]
  },
  {
   "cell_type": "code",
   "execution_count": null,
   "metadata": {},
   "outputs": [],
   "source": [
    "v1 = (q,0)\n",
    "v2 = (h,1)\n",
    "u1, u2 = gaussian_reduction(v2,v1)\n",
    "u1, u2"
   ]
  },
  {
   "cell_type": "code",
   "execution_count": null,
   "metadata": {},
   "outputs": [],
   "source": [
    "g, f = u1 #as it's elements are positive"
   ]
  },
  {
   "cell_type": "code",
   "execution_count": null,
   "metadata": {},
   "outputs": [],
   "source": [
    "#taken from source.py\n",
    "def decrypt(q, h, f, g, e):\n",
    "    a = (f*e) % q\n",
    "    m = (a*inverse(f, g)) % g\n",
    "    return m\n",
    "\n",
    "long_to_bytes(decrypt(q, h, f, g, e))"
   ]
  }
 ],
 "metadata": {
  "kernelspec": {
   "display_name": "Python 3",
   "language": "python",
   "name": "python3"
  },
  "language_info": {
   "codemirror_mode": {
    "name": "ipython",
    "version": 3
   },
   "file_extension": ".py",
   "mimetype": "text/x-python",
   "name": "python",
   "nbconvert_exporter": "python",
   "pygments_lexer": "ipython3",
   "version": "3.10.11"
  }
 },
 "nbformat": 4,
 "nbformat_minor": 2
}
