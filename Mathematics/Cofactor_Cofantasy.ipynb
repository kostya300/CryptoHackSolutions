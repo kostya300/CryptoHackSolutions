{
 "cells": [
  {
   "cell_type": "code",
   "execution_count": null,
   "metadata": {},
   "outputs": [],
   "source": [
    "%pip install pwntools"
   ]
  },
  {
   "cell_type": "code",
   "execution_count": null,
   "metadata": {},
   "outputs": [],
   "source": [
    "from pwn import remote\n",
    "from Crypto.Util.number import getPrime, long_to_bytes\n",
    "from Crypto.Random.random import randint\n",
    "from collections import Counter\n",
    "import json"
   ]
  },
  {
   "cell_type": "code",
   "execution_count": null,
   "metadata": {},
   "outputs": [],
   "source": [
    "def json_recv(r):\n",
    "    line = r.recvline()\n",
    "    return json.loads(line.decode())\n",
    "\n",
    "def json_send(r, hsh):\n",
    "    request = json.dumps(hsh).encode()\n",
    "    r.sendline(request)"
   ]
  },
  {
   "cell_type": "code",
   "execution_count": null,
   "metadata": {},
   "outputs": [],
   "source": [
    "N = 56135841374488684373258694423292882709478511628224823806418810596720294684253418942704418179091997825551647866062286502441190115027708222460662070779175994701788428003909010382045613207284532791741873673703066633119446610400693458529100429608337219231960657953091738271259191554117313396642763210860060639141073846574854063639566514714132858435468712515314075072939175199679898398182825994936320483610198366472677612791756619011108922142762239138617449089169337289850195216113264566855267751924532728815955224322883877527042705441652709430700299472818705784229370198468215837020914928178388248878021890768324401897370624585349884198333555859109919450686780542004499282760223378846810870449633398616669951505955844529109916358388422428604135236531474213891506793466625402941248015834590154103947822771207939622459156386080305634677080506350249632630514863938445888806223951124355094468682539815309458151531117637927820629042605402188751144912274644498695897277\n",
    "phi = 56135841374488684373258694423292882709478511628224823806413974550086974518248002462797814062141189227167574137989180030483816863197632033192968896065500768938801786598807509315219962138010136188406833851300860971268861927441791178122071599752664078796430411769850033154303492519678490546174370674967628006608839214466433919286766123091889446305984360469651656535210598491300297553925477655348454404698555949086705347702081589881912691966015661120478477658546912972227759596328813124229023736041312940514530600515818452405627696302497023443025538858283667214796256764291946208723335591637425256171690058543567732003198060253836008672492455078544449442472712365127628629283773126365094146350156810594082935996208856669620333251443999075757034938614748482073575647862178964169142739719302502938881912008485968506720505975584527371889195388169228947911184166286132699532715673539451471005969465570624431658644322366653686517908000327238974943675848531974674382848\n",
    "g = 986762276114520220801525811758560961667498483061127810099097"
   ]
  },
  {
   "cell_type": "markdown",
   "metadata": {},
   "source": [
    "The solution will be based on Euluer's theorem where we will try to \"complete\" ther power of $g$ to be divisible by $\\varphi(N)$. We know that $N = \\prod_i p_i$ is a product of primes and so:\n",
    "$$\\varphi(N) = \\prod_i (p_i - 1)$$\n",
    "This means that $\\varphi(N)$ is divisible by some power of $2$ (as every prime, except $2$, is odd)."
   ]
  },
  {
   "cell_type": "code",
   "execution_count": null,
   "metadata": {},
   "outputs": [],
   "source": [
    "for i in range(100):\n",
    "    if phi%(2**i) != 0:\n",
    "        break\n",
    "print(f\"phi % 2^{i-1} = {phi%(2**(i-1))}\")"
   ]
  },
  {
   "cell_type": "markdown",
   "metadata": {},
   "source": [
    "Let $a = \\frac{\\varphi(N)}{2^{16}}$. We can see that:"
   ]
  },
  {
   "cell_type": "code",
   "execution_count": null,
   "metadata": {},
   "outputs": [],
   "source": [
    "for i in range(1,17):\n",
    "    print(f\"pow(g, phi//(2**{i}), N) = {pow(g, phi//(2**i), N)}\")"
   ]
  },
  {
   "cell_type": "markdown",
   "metadata": {},
   "source": [
    "Which means that for every $x$:\n",
    "$$ {(g^x)}^a = g^{a*x} = \\begin{cases}\n",
    "1, \\, x\\text{ is even} \\\\\n",
    "4953122938320139992..., \\, x\\text{ is odd } \n",
    "\\end{cases}$$\n",
    "so for 50% of the values of ${(g^x)}^a$ are supposed to be $495312293832013999...$ where for a random number returned the probability will be much lower."
   ]
  },
  {
   "cell_type": "code",
   "execution_count": null,
   "metadata": {},
   "outputs": [],
   "source": [
    "HOST = \"socket.cryptohack.org\"\n",
    "PORT = 13398\n",
    "\n",
    "r = remote(HOST, PORT)\n",
    "line = r.recvline()\n",
    "line"
   ]
  },
  {
   "cell_type": "code",
   "execution_count": null,
   "metadata": {},
   "outputs": [],
   "source": [
    "a = phi//(2**16)\n",
    "g_power_a = pow(g, a, N)\n",
    "\n",
    "FLAG = []\n",
    "ibit = 0\n",
    "\n",
    "while True:\n",
    "    \n",
    "    new_bit = \"0\"\n",
    "    for i in range(20): #20 tries for every bit to make the probability of error low\n",
    "        json_send(r, {\"option\": \"get_bit\", \"i\":ibit})\n",
    "        result = json_recv(r)\n",
    "        \n",
    "        if 'error' in result: break\n",
    "        bit = int(result['bit'], 16)\n",
    "        if pow(bit, a, N) == g_power_a:\n",
    "            new_bit = \"1\"\n",
    "            break\n",
    "    if 'error' in result: break\n",
    "\n",
    "    FLAG.append(new_bit)\n",
    "    ibit += 1\n",
    "\n",
    "FLAG = [\"\".join(reversed(FLAG[i:i+8])) for i in range(0,len(FLAG),8)] #reverse every 8-tuple in FLAG\n",
    "\n",
    "long_to_bytes(int(\"\".join(FLAG),2))"
   ]
  }
 ],
 "metadata": {
  "kernelspec": {
   "display_name": "Python 3",
   "language": "python",
   "name": "python3"
  },
  "language_info": {
   "codemirror_mode": {
    "name": "ipython",
    "version": 3
   },
   "file_extension": ".py",
   "mimetype": "text/x-python",
   "name": "python",
   "nbconvert_exporter": "python",
   "pygments_lexer": "ipython3",
   "version": "3.10.11"
  }
 },
 "nbformat": 4,
 "nbformat_minor": 2
}
