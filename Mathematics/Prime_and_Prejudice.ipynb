{
 "cells": [
  {
   "cell_type": "code",
   "execution_count": null,
   "metadata": {},
   "outputs": [],
   "source": [
    "%pip install pwntools\n",
    "%pip install sympy"
   ]
  },
  {
   "cell_type": "code",
   "execution_count": null,
   "metadata": {},
   "outputs": [],
   "source": [
    "from pwn import remote\n",
    "from Crypto.Util.number import inverse, isPrime\n",
    "from sympy import primerange\n",
    "from sympy.ntheory.modular import crt\n",
    "import json\n",
    "from functools import reduce\n",
    "import random"
   ]
  },
  {
   "cell_type": "code",
   "execution_count": null,
   "metadata": {},
   "outputs": [],
   "source": [
    "def json_recv(r):\n",
    "    line = r.recvline()\n",
    "    return json.loads(line.decode())\n",
    "\n",
    "def json_send(r, hsh):\n",
    "    request = json.dumps(hsh).encode()\n",
    "    r.sendline(request)"
   ]
  },
  {
   "cell_type": "code",
   "execution_count": null,
   "metadata": {},
   "outputs": [],
   "source": [
    "def generate_basis(n):\n",
    "    basis = [True] * n\n",
    "    for i in range(3, int(n**0.5)+1, 2):\n",
    "        if basis[i]:\n",
    "            basis[i*i::2*i] = [False]*((n-i*i-1)//(2*i)+1)\n",
    "    return [2] + [i for i in range(3, n, 2) if basis[i]]\n",
    "\n",
    "def miller_rabin(n, b):\n",
    "    \"\"\"\n",
    "    Miller Rabin test testing over all\n",
    "    prime basis < b\n",
    "    \"\"\"\n",
    "    basis = generate_basis(b)\n",
    "    if n == 2 or n == 3:\n",
    "        return True\n",
    "\n",
    "    if n % 2 == 0:\n",
    "        return False\n",
    "\n",
    "    r, s = 0, n - 1\n",
    "    while s % 2 == 0:\n",
    "        r += 1\n",
    "        s //= 2\n",
    "    for b in basis:\n",
    "        x = pow(b, s, n)\n",
    "        if x == 1 or x == n - 1:\n",
    "            continue\n",
    "        for _ in range(r - 1):\n",
    "            x = pow(x, 2, n)\n",
    "            if x == n - 1:\n",
    "                break\n",
    "        else:\n",
    "            return False\n",
    "    return True"
   ]
  },
  {
   "cell_type": "markdown",
   "metadata": {},
   "source": [
    "As we are using miller-rabin primality test, we need to remember that this algorithm has some false positives, depending on the chosen base. If we'll use a specific number which pass this test for the calculated base but is not prime, we can get all the characters we want from the server.\n",
    "\n",
    "Luckily, this paper provides an algorithm to generate such primes for a given base:\n",
    "\n",
    "Arnault, F. (1995). Constructing Carmichael numbers which are strong pseudoprimes to several bases. Journal of Symbolic Computation, 20(2), 151-161."
   ]
  },
  {
   "cell_type": "code",
   "execution_count": null,
   "metadata": {},
   "outputs": [],
   "source": [
    "#based on https://www.sciencedirect.com/science/article/pii/S074771718571042\n",
    "random.seed(12345)\n",
    "\n",
    "primes = list(primerange(3, 5000)) #list of \"small\" primes\n",
    "\n",
    "k2, k3 = primes[40], primes[35]\n",
    "k_lst = [1, k2, k3]\n",
    "bases = generate_basis(64)\n",
    "\n",
    "bases_4 = [4*b for b in bases]\n",
    "\n",
    "Sb = {b : {p%(4*b) for p in primes if pow(b, (p-1)//2, p)==p-1} for b in bases}\n",
    "Sb_k = { (b, k) : {(inverse(k, 4*b)*(s+k-1))%(4*b) for s in Sb[b]} for b in bases for k in k_lst}\n",
    "\n",
    "p1_mods = {b : reduce(set.intersection, [Sb_k[(b, k)] for k in k_lst]) for b in bases}\n",
    "\n",
    "psudo_prime = None\n",
    "while psudo_prime is None:\n",
    "    remainders = [random.sample(list(x), 1)[0] for x in p1_mods.values()]\n",
    "    a = bases_4 + k_lst[1:]\n",
    "    n = (*remainders, inverse(-k3, k2), inverse(-k2, k3))\n",
    "    sol = crt(a, n)\n",
    "    if sol is None: continue\n",
    "\n",
    "    p1_candidate, n_candidate = sol\n",
    "    for i in range(1000):\n",
    "        p1 = p1_candidate + (10**40+i)*n_candidate # the factor 10**40 is to make sure psudo_prime is 600-900 bits\n",
    "        p2, p3 = k2*(p1-1)+1, k3*(p1-1)+1\n",
    "        if isPrime(p1) and isPrime(p2) and isPrime(p3):\n",
    "            p_product = p1*p2*p3\n",
    "            if p_product.bit_length() > 600 or p_product.bit_length() < 900:\n",
    "                psudo_prime = p_product\n",
    "                break\n",
    "\n",
    "print(p1, p2, p3, psudo_prime)"
   ]
  },
  {
   "cell_type": "code",
   "execution_count": null,
   "metadata": {},
   "outputs": [],
   "source": [
    "print(\"p1 is prime:\", isPrime(p1))\n",
    "print(\"p2 is prime:\", isPrime(p2))\n",
    "print(\"p3 is prime:\", isPrime(p3))\n",
    "print(\"psudo_prime is prime:\", isPrime(psudo_prime))\n",
    "print(\"psudo_prime passes rabin miller test:\", miller_rabin(psudo_prime, 64))"
   ]
  },
  {
   "cell_type": "code",
   "execution_count": null,
   "metadata": {},
   "outputs": [],
   "source": [
    "HOST = \"socket.cryptohack.org\"\n",
    "PORT = 13385\n",
    "\n",
    "r = remote(HOST, PORT)\n",
    "line = r.recvline()\n",
    "line"
   ]
  },
  {
   "cell_type": "code",
   "execution_count": null,
   "metadata": {},
   "outputs": [],
   "source": [
    "json_send(r, {\"prime\": psudo_prime, \"base\": p1})\n",
    "line = r.recvline()\n",
    "line"
   ]
  }
 ],
 "metadata": {
  "kernelspec": {
   "display_name": "Python 3",
   "language": "python",
   "name": "python3"
  },
  "language_info": {
   "codemirror_mode": {
    "name": "ipython",
    "version": 3
   },
   "file_extension": ".py",
   "mimetype": "text/x-python",
   "name": "python",
   "nbconvert_exporter": "python",
   "pygments_lexer": "ipython3",
   "version": "3.10.11"
  }
 },
 "nbformat": 4,
 "nbformat_minor": 2
}
